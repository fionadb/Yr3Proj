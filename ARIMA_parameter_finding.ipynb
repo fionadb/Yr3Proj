{
 "cells": [
  {
   "cell_type": "code",
   "execution_count": 1,
   "metadata": {},
   "outputs": [],
   "source": [
    "# Load data\n",
    "import pandas as pd\n",
    "import numpy as np\n",
    "df = pd.read_parquet('2013_demand_datetime.snappy.parquet')"
   ]
  },
  {
   "cell_type": "code",
   "execution_count": 2,
   "metadata": {},
   "outputs": [
    {
     "name": "stdout",
     "output_type": "stream",
     "text": [
      "Performing stepwise search to minimize aic\n",
      " ARIMA(2,1,2)(1,0,1)[48] intercept   : AIC=19463.908, Time=17.12 sec\n",
      " ARIMA(0,1,0)(0,0,0)[48] intercept   : AIC=22840.581, Time=0.02 sec\n",
      " ARIMA(1,1,0)(1,0,0)[48] intercept   : AIC=inf, Time=8.02 sec\n",
      " ARIMA(0,1,1)(0,0,1)[48] intercept   : AIC=inf, Time=4.58 sec\n",
      " ARIMA(0,1,0)(0,0,0)[48]             : AIC=22838.582, Time=0.02 sec\n",
      " ARIMA(2,1,2)(0,0,1)[48] intercept   : AIC=inf, Time=13.39 sec\n",
      " ARIMA(2,1,2)(1,0,0)[48] intercept   : AIC=inf, Time=17.53 sec\n",
      " ARIMA(2,1,2)(2,0,1)[48] intercept   : AIC=19539.384, Time=135.38 sec\n",
      " ARIMA(2,1,2)(1,0,2)[48] intercept   : AIC=19499.946, Time=131.03 sec\n",
      " ARIMA(2,1,2)(0,0,0)[48] intercept   : AIC=20996.318, Time=0.53 sec\n",
      " ARIMA(2,1,2)(0,0,2)[48] intercept   : AIC=inf, Time=106.50 sec\n",
      " ARIMA(2,1,2)(2,0,0)[48] intercept   : AIC=inf, Time=126.38 sec\n",
      " ARIMA(2,1,2)(2,0,2)[48] intercept   : AIC=inf, Time=145.04 sec\n",
      " ARIMA(1,1,2)(1,0,1)[48] intercept   : AIC=inf, Time=14.47 sec\n",
      " ARIMA(2,1,1)(1,0,1)[48] intercept   : AIC=inf, Time=15.78 sec\n",
      " ARIMA(3,1,2)(1,0,1)[48] intercept   : AIC=inf, Time=18.04 sec\n",
      " ARIMA(2,1,3)(1,0,1)[48] intercept   : AIC=inf, Time=18.99 sec\n",
      " ARIMA(1,1,1)(1,0,1)[48] intercept   : AIC=inf, Time=12.82 sec\n",
      " ARIMA(1,1,3)(1,0,1)[48] intercept   : AIC=19430.781, Time=17.27 sec\n",
      " ARIMA(1,1,3)(0,0,1)[48] intercept   : AIC=inf, Time=9.97 sec\n",
      " ARIMA(1,1,3)(1,0,0)[48] intercept   : AIC=19479.846, Time=13.16 sec\n",
      " ARIMA(1,1,3)(2,0,1)[48] intercept   : AIC=inf, Time=125.27 sec\n",
      " ARIMA(1,1,3)(1,0,2)[48] intercept   : AIC=inf, Time=250.66 sec\n",
      " ARIMA(1,1,3)(0,0,0)[48] intercept   : AIC=20998.418, Time=0.22 sec\n",
      " ARIMA(1,1,3)(0,0,2)[48] intercept   : AIC=inf, Time=122.91 sec\n",
      " ARIMA(1,1,3)(2,0,0)[48] intercept   : AIC=19566.526, Time=116.27 sec\n",
      " ARIMA(1,1,3)(2,0,2)[48] intercept   : AIC=inf, Time=232.95 sec\n"
     ]
    }
   ],
   "source": [
    "# Figure out order for ARIMA model\n",
    "from pmdarima import auto_arima\n",
    "\n",
    "stepwise_fit = auto_arima(df[:48*7*4].ENGLAND_WALES_DEMAND, \n",
    "                      seasonal=True,\n",
    "                      m=48,\n",
    "                      approximate=True,\n",
    "                      trace=True,\n",
    "                      error_action='ignore',  \n",
    "                      suppress_warnings=True, \n",
    "                      stepwise=True)\n",
    "stepwise_fit.summary()"
   ]
  }
 ],
 "metadata": {
  "kernelspec": {
   "display_name": "Python 3.10.8 64-bit (microsoft store)",
   "language": "python",
   "name": "python3"
  },
  "language_info": {
   "codemirror_mode": {
    "name": "ipython",
    "version": 3
   },
   "file_extension": ".py",
   "mimetype": "text/x-python",
   "name": "python",
   "nbconvert_exporter": "python",
   "pygments_lexer": "ipython3",
   "version": "3.10.8"
  },
  "orig_nbformat": 4,
  "vscode": {
   "interpreter": {
    "hash": "bbea8215ccb61f53ec7aa02c4a13986217ab61a1cf2ac57969d7364f2256b442"
   }
  }
 },
 "nbformat": 4,
 "nbformat_minor": 2
}
